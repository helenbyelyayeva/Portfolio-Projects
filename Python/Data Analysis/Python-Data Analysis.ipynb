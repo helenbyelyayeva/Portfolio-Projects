{
  "metadata": {
    "kernelspec": {
      "name": "python",
      "display_name": "Python (Pyodide)",
      "language": "python"
    },
    "language_info": {
      "codemirror_mode": {
        "name": "python",
        "version": 3
      },
      "file_extension": ".py",
      "mimetype": "text/x-python",
      "name": "python",
      "nbconvert_exporter": "python",
      "pygments_lexer": "ipython3",
      "version": "3.8"
    }
  },
  "nbformat_minor": 4,
  "nbformat": 4,
  "cells": [
    {
      "cell_type": "code",
      "source": "import pandas as pd\ndf = pd.read_csv('survey_results_public.csv')\ndf.head()",
      "metadata": {
        "trusted": true
      },
      "outputs": [
        {
          "execution_count": 2,
          "output_type": "execute_result",
          "data": {
            "text/plain": "   ResponseId                                         MainBranch  \\\n0           1                                      None of these   \n1           2                     I am a developer by profession   \n2           3  I am not primarily a developer, but I write co...   \n3           4                     I am a developer by profession   \n4           5                     I am a developer by profession   \n\n            Employment                            RemoteWork  \\\n0                  NaN                                   NaN   \n1  Employed, full-time                          Fully remote   \n2  Employed, full-time  Hybrid (some remote, some in-person)   \n3  Employed, full-time                          Fully remote   \n4  Employed, full-time  Hybrid (some remote, some in-person)   \n\n                           CodingActivities  \\\n0                                       NaN   \n1  Hobby;Contribute to open-source projects   \n2                                     Hobby   \n3              I don’t code outside of work   \n4                                     Hobby   \n\n                                           EdLevel  \\\n0                                              NaN   \n1                                              NaN   \n2  Master’s degree (M.A., M.S., M.Eng., MBA, etc.)   \n3     Bachelor’s degree (B.A., B.S., B.Eng., etc.)   \n4     Bachelor’s degree (B.A., B.S., B.Eng., etc.)   \n\n                                           LearnCode  \\\n0                                                NaN   \n1                                                NaN   \n2  Books / Physical media;Friend or family member...   \n3  Books / Physical media;School (i.e., Universit...   \n4  Other online resources (e.g., videos, blogs, f...   \n\n                                     LearnCodeOnline LearnCodeCoursesCert  \\\n0                                                NaN                  NaN   \n1                                                NaN                  NaN   \n2  Technical documentation;Blogs;Programming Game...                  NaN   \n3                                                NaN                  NaN   \n4  Technical documentation;Blogs;Stack Overflow;O...                  NaN   \n\n  YearsCode  ... TimeSearching TimeAnswering Onboarding ProfessionalTech  \\\n0       NaN  ...           NaN           NaN        NaN              NaN   \n1       NaN  ...           NaN           NaN        NaN              NaN   \n2        14  ...           NaN           NaN        NaN              NaN   \n3        20  ...           NaN           NaN        NaN              NaN   \n4         8  ...           NaN           NaN        NaN              NaN   \n\n  TrueFalse_1 TrueFalse_2 TrueFalse_3           SurveyLength  \\\n0         NaN         NaN         NaN                    NaN   \n1         NaN         NaN         NaN               Too long   \n2         NaN         NaN         NaN  Appropriate in length   \n3         NaN         NaN         NaN  Appropriate in length   \n4         NaN         NaN         NaN               Too long   \n\n                   SurveyEase ConvertedCompYearly  \n0                         NaN                 NaN  \n1                   Difficult                 NaN  \n2  Neither easy nor difficult             40205.0  \n3                        Easy            215232.0  \n4                        Easy                 NaN  \n\n[5 rows x 79 columns]",
            "text/html": "<div>\n<style scoped>\n    .dataframe tbody tr th:only-of-type {\n        vertical-align: middle;\n    }\n\n    .dataframe tbody tr th {\n        vertical-align: top;\n    }\n\n    .dataframe thead th {\n        text-align: right;\n    }\n</style>\n<table border=\"1\" class=\"dataframe\">\n  <thead>\n    <tr style=\"text-align: right;\">\n      <th></th>\n      <th>ResponseId</th>\n      <th>MainBranch</th>\n      <th>Employment</th>\n      <th>RemoteWork</th>\n      <th>CodingActivities</th>\n      <th>EdLevel</th>\n      <th>LearnCode</th>\n      <th>LearnCodeOnline</th>\n      <th>LearnCodeCoursesCert</th>\n      <th>YearsCode</th>\n      <th>...</th>\n      <th>TimeSearching</th>\n      <th>TimeAnswering</th>\n      <th>Onboarding</th>\n      <th>ProfessionalTech</th>\n      <th>TrueFalse_1</th>\n      <th>TrueFalse_2</th>\n      <th>TrueFalse_3</th>\n      <th>SurveyLength</th>\n      <th>SurveyEase</th>\n      <th>ConvertedCompYearly</th>\n    </tr>\n  </thead>\n  <tbody>\n    <tr>\n      <th>0</th>\n      <td>1</td>\n      <td>None of these</td>\n      <td>NaN</td>\n      <td>NaN</td>\n      <td>NaN</td>\n      <td>NaN</td>\n      <td>NaN</td>\n      <td>NaN</td>\n      <td>NaN</td>\n      <td>NaN</td>\n      <td>...</td>\n      <td>NaN</td>\n      <td>NaN</td>\n      <td>NaN</td>\n      <td>NaN</td>\n      <td>NaN</td>\n      <td>NaN</td>\n      <td>NaN</td>\n      <td>NaN</td>\n      <td>NaN</td>\n      <td>NaN</td>\n    </tr>\n    <tr>\n      <th>1</th>\n      <td>2</td>\n      <td>I am a developer by profession</td>\n      <td>Employed, full-time</td>\n      <td>Fully remote</td>\n      <td>Hobby;Contribute to open-source projects</td>\n      <td>NaN</td>\n      <td>NaN</td>\n      <td>NaN</td>\n      <td>NaN</td>\n      <td>NaN</td>\n      <td>...</td>\n      <td>NaN</td>\n      <td>NaN</td>\n      <td>NaN</td>\n      <td>NaN</td>\n      <td>NaN</td>\n      <td>NaN</td>\n      <td>NaN</td>\n      <td>Too long</td>\n      <td>Difficult</td>\n      <td>NaN</td>\n    </tr>\n    <tr>\n      <th>2</th>\n      <td>3</td>\n      <td>I am not primarily a developer, but I write co...</td>\n      <td>Employed, full-time</td>\n      <td>Hybrid (some remote, some in-person)</td>\n      <td>Hobby</td>\n      <td>Master’s degree (M.A., M.S., M.Eng., MBA, etc.)</td>\n      <td>Books / Physical media;Friend or family member...</td>\n      <td>Technical documentation;Blogs;Programming Game...</td>\n      <td>NaN</td>\n      <td>14</td>\n      <td>...</td>\n      <td>NaN</td>\n      <td>NaN</td>\n      <td>NaN</td>\n      <td>NaN</td>\n      <td>NaN</td>\n      <td>NaN</td>\n      <td>NaN</td>\n      <td>Appropriate in length</td>\n      <td>Neither easy nor difficult</td>\n      <td>40205.0</td>\n    </tr>\n    <tr>\n      <th>3</th>\n      <td>4</td>\n      <td>I am a developer by profession</td>\n      <td>Employed, full-time</td>\n      <td>Fully remote</td>\n      <td>I don’t code outside of work</td>\n      <td>Bachelor’s degree (B.A., B.S., B.Eng., etc.)</td>\n      <td>Books / Physical media;School (i.e., Universit...</td>\n      <td>NaN</td>\n      <td>NaN</td>\n      <td>20</td>\n      <td>...</td>\n      <td>NaN</td>\n      <td>NaN</td>\n      <td>NaN</td>\n      <td>NaN</td>\n      <td>NaN</td>\n      <td>NaN</td>\n      <td>NaN</td>\n      <td>Appropriate in length</td>\n      <td>Easy</td>\n      <td>215232.0</td>\n    </tr>\n    <tr>\n      <th>4</th>\n      <td>5</td>\n      <td>I am a developer by profession</td>\n      <td>Employed, full-time</td>\n      <td>Hybrid (some remote, some in-person)</td>\n      <td>Hobby</td>\n      <td>Bachelor’s degree (B.A., B.S., B.Eng., etc.)</td>\n      <td>Other online resources (e.g., videos, blogs, f...</td>\n      <td>Technical documentation;Blogs;Stack Overflow;O...</td>\n      <td>NaN</td>\n      <td>8</td>\n      <td>...</td>\n      <td>NaN</td>\n      <td>NaN</td>\n      <td>NaN</td>\n      <td>NaN</td>\n      <td>NaN</td>\n      <td>NaN</td>\n      <td>NaN</td>\n      <td>Too long</td>\n      <td>Easy</td>\n      <td>NaN</td>\n    </tr>\n  </tbody>\n</table>\n<p>5 rows × 79 columns</p>\n</div>"
          },
          "metadata": {}
        }
      ],
      "execution_count": 2
    },
    {
      "cell_type": "code",
      "source": "#How many respondents completed the survey?",
      "metadata": {
        "trusted": true
      },
      "outputs": [],
      "execution_count": null
    },
    {
      "cell_type": "code",
      "source": "total_respondents = df['ResponseId'].count()\nprint(\"Number of total responses:\", total_respondents)",
      "metadata": {
        "trusted": true
      },
      "outputs": [
        {
          "name": "stdout",
          "text": "Number of total responses: 73268\n",
          "output_type": "stream"
        }
      ],
      "execution_count": 16
    },
    {
      "cell_type": "code",
      "source": "#How many respondents answered all questions?",
      "metadata": {
        "trusted": true
      },
      "outputs": [],
      "execution_count": 14
    },
    {
      "cell_type": "code",
      "source": "df1 = pd.read_csv('survey_results_public.csv')\ndf2 = pd.read_csv('survey_results_schema.csv')\nschema_question_names = df2['qname'].tolist()\nexisting_column_names = [col for col in schema_question_names if col in df1.columns]\nrespondents_count = df1.dropna(subset=existing_column_names).shape[0]\nprint(\"Number of respondents who answered all questions:\", respondents_count)",
      "metadata": {
        "trusted": true
      },
      "outputs": [
        {
          "name": "stdout",
          "text": "Number of respondents who answered all questions: 6601\n",
          "output_type": "stream"
        }
      ],
      "execution_count": 48
    },
    {
      "cell_type": "code",
      "source": "#What are the measures of central tendency for respondents' work experience (WorkExp)?",
      "metadata": {
        "trusted": true
      },
      "outputs": [],
      "execution_count": null
    },
    {
      "cell_type": "code",
      "source": "median_work_exp = df['WorkExp'].median()\navg_work_exp = df['WorkExp'].mean()\nrounded_avg_work_exp = round(avg_work_exp)\nm_work_exp = df['WorkExp'].mode()\nprint(f\"Median: {median_work_exp} years\")\nprint(f\"Average: {rounded_avg_work_exp} years\")\nprint(f\"Moda: {m_work_exp.iloc[0]} years\")",
      "metadata": {
        "trusted": true
      },
      "outputs": [
        {
          "name": "stdout",
          "text": "Median: 8.0 years\nAverage: 10 years\nModa: 5.0 years\n",
          "output_type": "stream"
        }
      ],
      "execution_count": 17
    },
    {
      "cell_type": "code",
      "source": "#How many respondents work remotely?",
      "metadata": {
        "trusted": true
      },
      "outputs": [],
      "execution_count": null
    },
    {
      "cell_type": "code",
      "source": "remote_count = df[df['RemoteWork'].str.contains('remote', case=False, na=False)].shape[0]\nprint(\"Number of respondents with 'remote' in 'RemoteWork':\", remote_count)",
      "metadata": {
        "trusted": true
      },
      "outputs": [
        {
          "name": "stdout",
          "text": "Number of respondents with 'remote' in 'RemoteWork': 50362\n",
          "output_type": "stream"
        }
      ],
      "execution_count": 22
    },
    {
      "cell_type": "code",
      "source": "#Among respondents in the 75th percentile for average compensation and working remotely, what industries are the most prevalent?",
      "metadata": {
        "trusted": true
      },
      "outputs": [],
      "execution_count": null
    },
    {
      "cell_type": "code",
      "source": "seventy_fifth_percentile = df['ConvertedCompYearly'].quantile(0.75)\nfiltered_df = df[(df['ConvertedCompYearly'] > seventy_fifth_percentile) & (df['RemoteWork'] == 'Fully remote')]\ntop_industries = filtered_df['MainBranch'].value_counts()\nprint(top_industries)",
      "metadata": {
        "trusted": true
      },
      "outputs": [
        {
          "name": "stdout",
          "text": "I am a developer by profession                                                   5124\nI am not primarily a developer, but I write code sometimes as part of my work     382\nName: MainBranch, dtype: int64\n",
          "output_type": "stream"
        }
      ],
      "execution_count": 6
    },
    {
      "cell_type": "code",
      "source": "#What percentage of respondents program in Python?",
      "metadata": {
        "trusted": true
      },
      "outputs": [],
      "execution_count": 4
    },
    {
      "cell_type": "code",
      "source": "python_count = df['LanguageHaveWorkedWith'].str.contains('python', case=False, na=False).sum()\ntotal_respondents = df['ResponseId'].count()\npercentage_python_users = (python_count / total_respondents) * 100\nprint(f\"Percentage of respondents who have worked with Python: {percentage_python_users:.2f}%\")",
      "metadata": {
        "trusted": true
      },
      "outputs": [
        {
          "name": "stdout",
          "text": "Percentage of respondents who have worked with Python: 46.62%\n",
          "output_type": "stream"
        }
      ],
      "execution_count": 18
    },
    {
      "cell_type": "code",
      "source": "#How many respondents learned programming through online courses?",
      "metadata": {
        "trusted": true
      },
      "outputs": [],
      "execution_count": null
    },
    {
      "cell_type": "code",
      "source": "online_courses_count = df[df['LearnCode'].str.contains('Online Courses', na=False)].shape[0]\nprint(\"Number of respondents who learned programming through online courses:\", online_courses_count)",
      "metadata": {
        "trusted": true
      },
      "outputs": [
        {
          "name": "stdout",
          "text": "Number of respondents who learned programming through online courses: 33379\n",
          "output_type": "stream"
        }
      ],
      "execution_count": 12
    },
    {
      "cell_type": "code",
      "source": "#Among respondents who program in Python, what is the average and median yearly compensation (ConvertedCompYearly) in each country,grouped by country?",
      "metadata": {
        "trusted": true
      },
      "outputs": [],
      "execution_count": null
    },
    {
      "cell_type": "code",
      "source": "python_programmers = df[df['LanguageHaveWorkedWith'].str.contains('Python', na=False)]\ngrouped_data = python_programmers.groupby('Country')['ConvertedCompYearly'].agg(['mean', 'median'])\ngrouped_data.columns = ['AverageSalary', 'MedianSalary']\ngrouped_data = grouped_data.applymap(lambda x: round(x, 0))\nprint(\"Average and Median Salary for Python Programmers by Country:\")\nprint(grouped_data)",
      "metadata": {
        "trusted": true
      },
      "outputs": [
        {
          "name": "stdout",
          "text": "Average and Median Salary for Python Programmers by Country:\n                                      AverageSalary  MedianSalary\nCountry                                                          \nAfghanistan                                 84689.0       84689.0\nAlbania                                     35858.0       16632.0\nAlgeria                                     17003.0       19196.0\nAndorra                                    118020.0      115176.0\nAngola                                       2403.0        2403.0\n...                                             ...           ...\nVenezuela, Bolivarian Republic of...        17744.0       12000.0\nViet Nam                                    41825.0       14244.0\nYemen                                        9000.0        9000.0\nZambia                                       4344.0        4344.0\nZimbabwe                                   195256.0       13200.0\n\n[173 rows x 2 columns]\n",
          "output_type": "stream"
        }
      ],
      "execution_count": 31
    },
    {
      "cell_type": "code",
      "source": "#What education levels do the 5 respondents with the highest compensation have?",
      "metadata": {
        "trusted": true
      },
      "outputs": [],
      "execution_count": null
    },
    {
      "cell_type": "code",
      "source": "sorted_data = df.sort_values(by='ConvertedCompYearly', ascending=False)\ntop_5_respondents = sorted_data.head(5)\neducation_levels = top_5_respondents['EdLevel']\nprint(education_levels)",
      "metadata": {
        "trusted": true
      },
      "outputs": [
        {
          "name": "stdout",
          "text": "40304    Secondary school (e.g. American high school, G...\n201           Bachelor’s degree (B.A., B.S., B.Eng., etc.)\n62026         Bachelor’s degree (B.A., B.S., B.Eng., etc.)\n70522         Bachelor’s degree (B.A., B.S., B.Eng., etc.)\n61043                            Primary/elementary school\nName: EdLevel, dtype: object\n",
          "output_type": "stream"
        }
      ],
      "execution_count": 11
    },
    {
      "cell_type": "code",
      "source": "#What is the average yearly compensation (ConvertedCompYearly) grouped by education level (EdLevel)",
      "metadata": {
        "trusted": true
      },
      "outputs": [],
      "execution_count": null
    },
    {
      "cell_type": "code",
      "source": "education_salary_avg = df.groupby('EdLevel')['ConvertedCompYearly'].mean()\nprint(education_salary_avg)",
      "metadata": {
        "trusted": true,
        "scrolled": true
      },
      "outputs": [
        {
          "name": "stdout",
          "text": "EdLevel\nAssociate degree (A.A., A.S., etc.)                                                   192651.58\nBachelor’s degree (B.A., B.S., B.Eng., etc.)                                          183214.08\nMaster’s degree (M.A., M.S., M.Eng., MBA, etc.)                                       155733.87\nOther doctoral degree (Ph.D., Ed.D., etc.)                                            195173.99\nPrimary/elementary school                                                             290821.32\nProfessional degree (JD, MD, etc.)                                                     81958.78\nSecondary school (e.g. American high school, German Realschule or Gymnasium, etc.)    143931.80\nSome college/university study without earning a degree                                159608.91\nSomething else                                                                        135111.16\nName: ConvertedCompYearly, dtype: float64\n",
          "output_type": "stream"
        }
      ],
      "execution_count": 8
    },
    {
      "cell_type": "code",
      "source": "#In each age category, what percentage of respondents program in Python?",
      "metadata": {
        "trusted": true
      },
      "outputs": [],
      "execution_count": null
    },
    {
      "cell_type": "code",
      "source": "python_df = df[df['LanguageHaveWorkedWith'].str.contains('Python', case=False, na=False)]\ntotal_respondents_by_age = df['Age'].value_counts()\npython_programmers_by_age = python_df['Age'].value_counts()\npercentage_by_age = (python_programmers_by_age / total_respondents_by_age) * 100\npercentage_by_age = percentage_by_age.round(2)\nprint(\"Percentage of Python programmers in each age group:\")\nprint(percentage_by_age)",
      "metadata": {
        "trusted": true
      },
      "outputs": [
        {
          "name": "stdout",
          "text": "Percentage of Python programmers in each age group:\n18-24 years old       58.63\n25-34 years old       45.20\n35-44 years old       39.58\n45-54 years old       37.32\n55-64 years old       33.22\n65 years or older     31.23\nPrefer not to say     60.46\nUnder 18 years old    68.44\nName: Age, dtype: float64\n",
          "output_type": "stream"
        }
      ],
      "execution_count": 36
    },
    {
      "cell_type": "code",
      "source": "\n",
      "metadata": {
        "trusted": true
      },
      "outputs": [],
      "execution_count": null
    }
  ]
}